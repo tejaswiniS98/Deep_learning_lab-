{
  "nbformat": 4,
  "nbformat_minor": 0,
  "metadata": {
    "colab": {
      "name": "mnist.ipynb",
      "provenance": [],
      "collapsed_sections": []
    },
    "kernelspec": {
      "name": "python3",
      "display_name": "Python 3"
    }
  },
  "cells": [
    {
      "cell_type": "code",
      "metadata": {
        "id": "4rzvg_LaLz7a"
      },
      "source": [
        "import keras\r\n",
        "from keras.datasets import mnist"
      ],
      "execution_count": null,
      "outputs": []
    },
    {
      "cell_type": "code",
      "metadata": {
        "id": "SG5EsPZoMOYu"
      },
      "source": [
        "(train_images, train_labels), (test_images, test_labels) = mnist.load_data()"
      ],
      "execution_count": null,
      "outputs": []
    },
    {
      "cell_type": "code",
      "metadata": {
        "id": "8X3g6cGpMWnf"
      },
      "source": [
        "# the data, shuffled and split between train and test sets\r\n",
        "(x_train, y_train), (x_test, y_test) = mnist.load_data()\r\n",
        "x_train = train_images.reshape(60000, 784)\r\n",
        "x_test = x_test.reshape(10000, 784)\r\n",
        "x_train = x_train.astype('float32')\r\n",
        "x_test = x_test.astype('float32')\r\n",
        "x_train /= 255\r\n",
        "x_test /= 255"
      ],
      "execution_count": null,
      "outputs": []
    },
    {
      "cell_type": "code",
      "metadata": {
        "id": "bs6_AZL5MkLn"
      },
      "source": [
        "from keras.utils import to_categorical\r\n",
        "y_train = keras.utils.to_categorical(y_train, num_classes=10)\r\n",
        "y_test = keras.utils.to_categorical(y_test, num_classes=10)"
      ],
      "execution_count": null,
      "outputs": []
    },
    {
      "cell_type": "code",
      "metadata": {
        "colab": {
          "base_uri": "https://localhost:8080/",
          "height": 327
        },
        "id": "OYVsEAq3Mp88",
        "outputId": "ccab2416-4c8c-4c99-b849-8a851018d4ba"
      },
      "source": [
        "from keras.models import Sequential\r\n",
        "from keras.layers import Dense\r\n",
        "from keras.optimizers import sgd"
      ],
      "execution_count": null,
      "outputs": [
        {
          "output_type": "error",
          "ename": "ImportError",
          "evalue": "ignored",
          "traceback": [
            "\u001b[0;31m---------------------------------------------------------------------------\u001b[0m",
            "\u001b[0;31mImportError\u001b[0m                               Traceback (most recent call last)",
            "\u001b[0;32m<ipython-input-24-956cbdb671b7>\u001b[0m in \u001b[0;36m<module>\u001b[0;34m()\u001b[0m\n\u001b[1;32m      1\u001b[0m \u001b[0;32mfrom\u001b[0m \u001b[0mkeras\u001b[0m\u001b[0;34m.\u001b[0m\u001b[0mmodels\u001b[0m \u001b[0;32mimport\u001b[0m \u001b[0mSequential\u001b[0m\u001b[0;34m\u001b[0m\u001b[0;34m\u001b[0m\u001b[0m\n\u001b[1;32m      2\u001b[0m \u001b[0;32mfrom\u001b[0m \u001b[0mkeras\u001b[0m\u001b[0;34m.\u001b[0m\u001b[0mlayers\u001b[0m \u001b[0;32mimport\u001b[0m \u001b[0mDense\u001b[0m\u001b[0;34m\u001b[0m\u001b[0;34m\u001b[0m\u001b[0m\n\u001b[0;32m----> 3\u001b[0;31m \u001b[0;32mfrom\u001b[0m \u001b[0mkeras\u001b[0m\u001b[0;34m.\u001b[0m\u001b[0moptimizers\u001b[0m \u001b[0;32mimport\u001b[0m \u001b[0msgd\u001b[0m\u001b[0;34m\u001b[0m\u001b[0;34m\u001b[0m\u001b[0m\n\u001b[0m",
            "\u001b[0;31mImportError\u001b[0m: cannot import name 'sgd'",
            "",
            "\u001b[0;31m---------------------------------------------------------------------------\u001b[0;32m\nNOTE: If your import is failing due to a missing package, you can\nmanually install dependencies using either !pip or !apt.\n\nTo view examples of installing some common dependencies, click the\n\"Open Examples\" button below.\n\u001b[0;31m---------------------------------------------------------------------------\u001b[0m\n"
          ]
        }
      ]
    },
    {
      "cell_type": "code",
      "metadata": {
        "id": "Rp2YbVXLM1cf"
      },
      "source": [
        "model = Sequential()\r\n",
        "model.add(Dense(10, activation='sigmoid', input_shape=(784,)))\r\n",
        "model.add(Dense(10, activation='softmax'))"
      ],
      "execution_count": null,
      "outputs": []
    },
    {
      "cell_type": "code",
      "metadata": {
        "colab": {
          "base_uri": "https://localhost:8080/"
        },
        "id": "X_ZR3Z7WM7Gt",
        "outputId": "55596d7e-7b34-41c1-86fe-3df9225e81e5"
      },
      "source": [
        "model.summary()"
      ],
      "execution_count": null,
      "outputs": [
        {
          "output_type": "stream",
          "text": [
            "Model: \"sequential\"\n",
            "_________________________________________________________________\n",
            "Layer (type)                 Output Shape              Param #   \n",
            "=================================================================\n",
            "dense (Dense)                (None, 10)                7850      \n",
            "_________________________________________________________________\n",
            "dense_1 (Dense)              (None, 10)                110       \n",
            "=================================================================\n",
            "Total params: 7,960\n",
            "Trainable params: 7,960\n",
            "Non-trainable params: 0\n",
            "_________________________________________________________________\n"
          ],
          "name": "stdout"
        }
      ]
    },
    {
      "cell_type": "code",
      "metadata": {
        "colab": {
          "base_uri": "https://localhost:8080/"
        },
        "id": "giRXLInwNAGP",
        "outputId": "994d0189-782a-4451-bf0d-3e111e5627b3"
      },
      "source": [
        "batch_size = 100\r\n",
        "num_classes = 10\r\n",
        "epochs=5\r\n",
        "model.compile(loss='categorical_crossentropy',\r\n",
        " optimizer='sgd',\r\n",
        " metrics=['accuracy'])\r\n",
        "model.fit(x_train, y_train,\r\n",
        " batch_size=batch_size,\r\n",
        " epochs=epochs,\r\n",
        " verbose=0\r\n",
        " )"
      ],
      "execution_count": null,
      "outputs": [
        {
          "output_type": "execute_result",
          "data": {
            "text/plain": [
              "<tensorflow.python.keras.callbacks.History at 0x7f9931250978>"
            ]
          },
          "metadata": {
            "tags": []
          },
          "execution_count": 26
        }
      ]
    },
    {
      "cell_type": "code",
      "metadata": {
        "colab": {
          "base_uri": "https://localhost:8080/"
        },
        "id": "MG9hEaQDNV3o",
        "outputId": "1a244654-8736-4141-cb90-b0ead19cfed8"
      },
      "source": [
        "test_loss, test_acc = model.evaluate(x_test, y_test)\r\n",
        "print('Test loss:', test_loss)\r\n",
        "print('Test accuracy:', test_acc)\r\n"
      ],
      "execution_count": null,
      "outputs": [
        {
          "output_type": "stream",
          "text": [
            "313/313 [==============================] - 1s 1ms/step - loss: 1.2015 - accuracy: 0.7404\n",
            "Test loss: 1.2014567852020264\n",
            "Test accuracy: 0.7404000163078308\n"
          ],
          "name": "stdout"
        }
      ]
    },
    {
      "cell_type": "code",
      "metadata": {
        "id": "jBr6cqZPNX6H"
      },
      "source": [
        "#Relu\r\n",
        "batch_size = 100\r\n",
        "num_classes = 10\r\n",
        "epochs=5\r\n",
        "model2 = Sequential()\r\n",
        "model2.add(Dense(10, activation='relu', input_shape=(784,)))\r\n",
        "model2.add(Dense(10, activation='softmax'))"
      ],
      "execution_count": null,
      "outputs": []
    },
    {
      "cell_type": "code",
      "metadata": {
        "colab": {
          "base_uri": "https://localhost:8080/"
        },
        "id": "gukUwEDiTDky",
        "outputId": "153de486-cf42-40af-b662-5bf24f4a00b7"
      },
      "source": [
        "model2.summary()"
      ],
      "execution_count": null,
      "outputs": [
        {
          "output_type": "stream",
          "text": [
            "Model: \"sequential_3\"\n",
            "_________________________________________________________________\n",
            "Layer (type)                 Output Shape              Param #   \n",
            "=================================================================\n",
            "dense_6 (Dense)              (None, 10)                7850      \n",
            "_________________________________________________________________\n",
            "dense_7 (Dense)              (None, 10)                110       \n",
            "=================================================================\n",
            "Total params: 7,960\n",
            "Trainable params: 7,960\n",
            "Non-trainable params: 0\n",
            "_________________________________________________________________\n"
          ],
          "name": "stdout"
        }
      ]
    },
    {
      "cell_type": "code",
      "metadata": {
        "id": "FpZ8bpjZTIWX"
      },
      "source": [
        "model2.compile(loss='categorical_crossentropy',\r\n",
        " optimizer='sgd',\r\n",
        " metrics=['accuracy'])"
      ],
      "execution_count": null,
      "outputs": []
    },
    {
      "cell_type": "code",
      "metadata": {
        "colab": {
          "base_uri": "https://localhost:8080/"
        },
        "id": "HH44f__ATOli",
        "outputId": "58a0812c-d19f-420f-ac94-1b829f21d5b3"
      },
      "source": [
        "model2.fit(x_train, y_train,\r\n",
        " batch_size=batch_size,\r\n",
        " epochs=epochs,\r\n",
        " verbose=0\r\n",
        " )\r\n"
      ],
      "execution_count": null,
      "outputs": [
        {
          "output_type": "execute_result",
          "data": {
            "text/plain": [
              "<tensorflow.python.keras.callbacks.History at 0x7f992ec2bdd8>"
            ]
          },
          "metadata": {
            "tags": []
          },
          "execution_count": 32
        }
      ]
    },
    {
      "cell_type": "code",
      "metadata": {
        "colab": {
          "base_uri": "https://localhost:8080/"
        },
        "id": "z_q9qjatTVhI",
        "outputId": "e2589725-a87c-43de-812d-b1295e05f6fc"
      },
      "source": [
        "test_loss, test_acc = model2.evaluate(x_test, y_test)"
      ],
      "execution_count": null,
      "outputs": [
        {
          "output_type": "stream",
          "text": [
            "313/313 [==============================] - 0s 1ms/step - loss: 0.3922 - accuracy: 0.8852\n"
          ],
          "name": "stdout"
        }
      ]
    },
    {
      "cell_type": "code",
      "metadata": {
        "colab": {
          "base_uri": "https://localhost:8080/"
        },
        "id": "y6UUuKkwTgNC",
        "outputId": "c6529cc9-bf31-4610-9bc8-bfc2f1c653ca"
      },
      "source": [
        "print('Model2 - Test loss:', test_loss)\r\n",
        "print('Model2 - Test accuracy:', test_acc)"
      ],
      "execution_count": null,
      "outputs": [
        {
          "output_type": "stream",
          "text": [
            "Model2 - Test loss: 0.3922245502471924\n",
            "Model2 - Test accuracy: 0.885200023651123\n"
          ],
          "name": "stdout"
        }
      ]
    },
    {
      "cell_type": "code",
      "metadata": {
        "id": "EYENE4wPTmfW"
      },
      "source": [
        "model3 = Sequential()\r\n",
        "model3.add(Dense(512, activation='relu', input_shape=(784,)))\r\n",
        "model3.add(Dense(10, activation='softmax'))"
      ],
      "execution_count": null,
      "outputs": []
    },
    {
      "cell_type": "code",
      "metadata": {
        "colab": {
          "base_uri": "https://localhost:8080/"
        },
        "id": "qxrfHcHcTr57",
        "outputId": "2dfb38fa-8ba0-46ea-a161-b00e78060583"
      },
      "source": [
        "model3.summary()"
      ],
      "execution_count": null,
      "outputs": [
        {
          "output_type": "stream",
          "text": [
            "Model: \"sequential_4\"\n",
            "_________________________________________________________________\n",
            "Layer (type)                 Output Shape              Param #   \n",
            "=================================================================\n",
            "dense_8 (Dense)              (None, 512)               401920    \n",
            "_________________________________________________________________\n",
            "dense_9 (Dense)              (None, 10)                5130      \n",
            "=================================================================\n",
            "Total params: 407,050\n",
            "Trainable params: 407,050\n",
            "Non-trainable params: 0\n",
            "_________________________________________________________________\n"
          ],
          "name": "stdout"
        }
      ]
    },
    {
      "cell_type": "code",
      "metadata": {
        "colab": {
          "base_uri": "https://localhost:8080/"
        },
        "id": "thaakPZyTr-e",
        "outputId": "89d8e052-4c94-43a9-e24b-d9ac909937ee"
      },
      "source": [
        "model3.compile(loss='categorical_crossentropy',\r\n",
        " optimizer='sgd',\r\n",
        " metrics=['accuracy'])\r\n",
        "epochs = 10\r\n",
        "model3.fit(x_train, y_train,\r\n",
        " batch_size=batch_size,\r\n",
        " epochs=epochs,\r\n",
        " verbose=0\r\n",
        " )\r\n"
      ],
      "execution_count": null,
      "outputs": [
        {
          "output_type": "execute_result",
          "data": {
            "text/plain": [
              "<tensorflow.python.keras.callbacks.History at 0x7f992e344978>"
            ]
          },
          "metadata": {
            "tags": []
          },
          "execution_count": 37
        }
      ]
    },
    {
      "cell_type": "code",
      "metadata": {
        "colab": {
          "base_uri": "https://localhost:8080/"
        },
        "id": "02jmEIF-T3ut",
        "outputId": "237ac4ba-68a1-4b56-9496-accd89a253a2"
      },
      "source": [
        "test_loss, test_acc = model3.evaluate(x_test, y_test)\r\n",
        "print('Model3 - Test loss:', test_loss)\r\n",
        "print('Model3 - Test accuracy:', test_acc)"
      ],
      "execution_count": null,
      "outputs": [
        {
          "output_type": "stream",
          "text": [
            "313/313 [==============================] - 1s 2ms/step - loss: 0.2419 - accuracy: 0.9331\n",
            "Model3 - Test loss: 0.24185261130332947\n",
            "Model3 - Test accuracy: 0.9330999851226807\n"
          ],
          "name": "stdout"
        }
      ]
    },
    {
      "cell_type": "code",
      "metadata": {
        "id": "1V4k44RnUBdS"
      },
      "source": [
        ""
      ],
      "execution_count": null,
      "outputs": []
    }
  ]
}